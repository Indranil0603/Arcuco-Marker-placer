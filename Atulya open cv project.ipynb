{
 "cells": [
  {
   "cell_type": "code",
   "execution_count": 23,
   "metadata": {},
   "outputs": [],
   "source": [
    "import cv2\n",
    "import cv2.aruco as aruco\n",
    "import math\n",
    "import numpy as np"
   ]
  },
  {
   "cell_type": "markdown",
   "metadata": {},
   "source": [
    "Function to find aruco marker Id"
   ]
  },
  {
   "cell_type": "code",
   "execution_count": 24,
   "metadata": {},
   "outputs": [],
   "source": [
    "def findaruco(img):#This function returns the cornera nd id of the given aruco marker\n",
    "    gray = cv2.cvtColor(img,cv2.COLOR_BGR2GRAY)\n",
    "    key = getattr(aruco,f'DICT_5X5_250')\n",
    "    arucoDict = aruco.Dictionary_get(key)\n",
    "    arucoParam = aruco.DetectorParameters_create()\n",
    "\n",
    "    (corners , ids, rejected) = cv2.aruco.detectMarkers(img, arucoDict, parameters = arucoParam)\n",
    "    return corners, ids\n"
   ]
  },
  {
   "cell_type": "markdown",
   "metadata": {},
   "source": [
    "Function to get id of Aruco by color"
   ]
  },
  {
   "cell_type": "code",
   "execution_count": 25,
   "metadata": {},
   "outputs": [],
   "source": [
    "def colour(value): #This function takes the BGR values of the pixel as input and returns the corresponding id of the color \n",
    "    if(value[0]==0) and (value[1]==0) and (value[2]==0):\n",
    "        return \"3\"\n",
    "    elif (value[0]==210) and (value[1]==222) and (value[2]==228) :\n",
    "        return \"4\"\n",
    "    elif (value[0]==9) and (value[1]==127) and (value[2]==240) :\n",
    "        return \"2\"\n",
    "    elif (value[0]== 79) and (value[1] ==209) and (value[2]==146):\n",
    "        return \"1\"\n",
    "    else:\n",
    "        return None\n",
    "    "
   ]
  },
  {
   "cell_type": "markdown",
   "metadata": {},
   "source": [
    "Rotated Aruco markers"
   ]
  },
  {
   "cell_type": "code",
   "execution_count": 26,
   "metadata": {},
   "outputs": [],
   "source": [
    "markers = {}  #Dictonary for storing aruco markers\n",
    "for i in [\"Ha\", \"HaHa\",\"LMAO\",\"XD\"]:\n",
    "    img = cv2.imread(f\"Images//{i}.jpg\")\n",
    "    a, b= findaruco(img) #The corners and the id of the aruco markers is extracted\n",
    "    slope = (a[0][0][1][1]- a[0][0][0][1])/(a[0][0][1][0]- a[0][0][0][0]) \n",
    "    angle = math.degrees(math.atan(slope))  #Angle at which aruco marker is present from normal position is calculated\n",
    "    cx  = int((int(a[0][0][0][0])+int(a[0][0][2][0]))/2) #x coordinate of center of aruco marker\n",
    "    cy  = int((int(a[0][0][0][1])+int(a[0][0][2][1]))/2) #y coordinate of center of aruco marker\n",
    "    (h, w) = img.shape[:2]\n",
    "    rotate = cv2.getRotationMatrix2D((cx,cy),angle,1.0)  #Rotation matrix for rotating the aruco marker \n",
    "    rotated = cv2.warpAffine(img,rotate,(w,h)) #The aruco marker is rotated to normal position\n",
    "    c,d = findaruco(rotated) #The corners and ids of aruco are again extracted\n",
    "    markers[str(b[0][0])] = rotated[int(c[0][0][0][0]):int(c[0][0][2][0]),int(c[0][0][0][1]):int(c[0][0][2][1])] #The aruco marker is stored with corresponding id as key"
   ]
  },
  {
   "cell_type": "markdown",
   "metadata": {},
   "source": [
    "Displaying the rotated aruco markers"
   ]
  },
  {
   "cell_type": "code",
   "execution_count": 27,
   "metadata": {},
   "outputs": [],
   "source": [
    "for i in markers.keys(): #Arco markers after rotation are displayed\n",
    "    cv2.imshow(f\"{i}\",markers[i])\n",
    "key = cv2.waitKey(0)\n",
    "cv2.destroyAllWindows()"
   ]
  },
  {
   "cell_type": "markdown",
   "metadata": {},
   "source": [
    "Opened the CVtask image"
   ]
  },
  {
   "cell_type": "code",
   "execution_count": 28,
   "metadata": {},
   "outputs": [],
   "source": [
    "img2 = cv2.imread(\"Images//CVtask.jpg\") #The image given to perform the task is read\n",
    "img2 = cv2.resize(img2, (877,620))\n",
    "cv2.imshow(\"Test\",img2)\n",
    "k2 = cv2.waitKey(0)\n",
    "cv2.destroyAllWindows()"
   ]
  },
  {
   "cell_type": "markdown",
   "metadata": {},
   "source": [
    "Got the edges of the shapes by canny edge detector"
   ]
  },
  {
   "cell_type": "code",
   "execution_count": 29,
   "metadata": {},
   "outputs": [],
   "source": [
    "gray = cv2.cvtColor(img2,cv2.COLOR_BGR2GRAY)#The image is converted to grey\n",
    "canny = cv2.Canny(gray,30,150) #The edges of image are detected\n",
    "cv2.imshow(\"Canny\",canny)\n",
    "key = cv2.waitKey(0)\n",
    "cv2.destroyAllWindows()"
   ]
  },
  {
   "cell_type": "markdown",
   "metadata": {},
   "source": [
    "Got the corners , centers and angle of inclination of the squares"
   ]
  },
  {
   "cell_type": "code",
   "execution_count": 30,
   "metadata": {},
   "outputs": [],
   "source": [
    "img3 = img2.copy()\n",
    "squares = [] #List that will store the attributes of the squares\n",
    "c, h = cv2.findContours(canny, cv2.RETR_LIST, cv2.CHAIN_APPROX_SIMPLE) #Contours are found for the canny image\n",
    "for cont in c:\n",
    "    approx = cv2.approxPolyDP(cont, 0.01* cv2.arcLength(cont, True), True) #The corners are calculated for each set of contours detected for a shape\n",
    "    if len(approx)== 4:\n",
    "        x, y, w, h = cv2.boundingRect(approx) #The x - x coordinate, y- ycoordinate , w-width, h-height of the bounding rectangle is calculated\n",
    "        ratio = float(w)/h #The ratio fo width and height of the bounding rectangle is calculated \n",
    "        if (ratio> 0.95) and (ratio < 1.05) : #For a square the ratio should be near to 1\n",
    "            cv2.drawContours(img3,[approx],0,(0,0,255))\n",
    "            ltx, lty = approx[0][0][0], approx[0][0][1] #x and y coordinate of left top corner is calculated\n",
    "            rtx, rty = approx[1][0][0], approx[1][0][1] #x and y coordinate of right top corner is calculated\n",
    "            rbx, rby = approx[2][0][0], approx[2][0][1] #x and y coordinate of right bottom corner is calculated\n",
    "            lbx, lby = approx[3][0][0], approx[3][0][1] #x and y coordinate of left bottom corner is calculated\n",
    "            #circles are drawn at all corners for visualization of corners\n",
    "            cv2.circle(img3, (ltx,lty), 5, (0,0,255),-1)\n",
    "            cv2.circle(img3, (rtx,rty), 5, (0,0,255),-1)\n",
    "            cv2.circle(img3, (lbx,lby), 5, (0,0,255),-1)\n",
    "            cv2.circle(img3, (rbx,rby), 5, (0,0,255),-1)\n",
    "            cenx = int((ltx + rbx)/2) #x coordinate of the center of square is calculated\n",
    "            ceny = int((lty + rty)/2) #y coordinate of the center of square is calculated\n",
    "            angle = float(rty - lty)/(rtx - ltx) #slope of the angle of side of square from horizonatal is calculated\n",
    "            angle = math.degrees(math.atan(angle)) #Angle fo square from horizontal is calculated from a \n",
    "            squares.append([[ltx,lty],[rtx,rty],[rbx,rby],[lbx,lby],[cenx,ceny],angle]) #all the Attributes of the squares is stored in a list 'squares'\n",
    "            id = colour(img3[ceny][cenx])\n",
    "cv2.imshow(\"Im\",img3) #The image with countours and circles at corners is displayed\n",
    "key = cv2.waitKey(0)\n",
    "cv2.destroyAllWindows()\n"
   ]
  },
  {
   "cell_type": "markdown",
   "metadata": {},
   "source": [
    "Pasted the aruco markers on the squares"
   ]
  },
  {
   "cell_type": "code",
   "execution_count": 31,
   "metadata": {},
   "outputs": [],
   "source": [
    "for i in range(4):\n",
    "    im_1 = np.zeros([1300,1300,3],dtype =np.uint8) #A blank matrix for is formed of dimensions 1300x1300\n",
    "    im_1.fill(255) #The matrix is filled with 255 so that the resulting image is a white image\n",
    "    im_1[260:880,130:1007] = img2 #A part of the above image is replaced by values of our orignal image\n",
    "    #By the above operations we get a image of our orignal image which is padded by white pixels to avoid and loss of the parts of the image in rotation  \n",
    "    n = squares[2*i][5]\n",
    "    rotate = cv2.getRotationMatrix2D((542,542),n,1.0) #Rotation matrix for rotation of the above image to bring the one side of the square in line with horizontal\n",
    "    rotated = cv2.warpAffine(im_1,rotate,(1300,1300)) #The image is rotated and one of the squares has sides paralled to axis\n",
    "    gray = cv2.cvtColor(rotated,cv2.COLOR_BGR2GRAY)\n",
    "    canny = cv2.Canny(gray,0,35)\n",
    "    rotated1 = rotated.copy()\n",
    "    c1, h1 = cv2.findContours(canny, cv2.RETR_LIST, cv2.CHAIN_APPROX_SIMPLE) #Contours are found the rotated image\n",
    "    for cont in c1:\n",
    "        approx1 = cv2.approxPolyDP(cont, 0.01* cv2.arcLength(cont, True), True) #Corners are detected for the contours\n",
    "        if len(approx1)== 4:\n",
    "            x, y, w, h = cv2.boundingRect(approx1) #The x - x coordinate, y- ycoordinate , w-width, h-height of the bounding rectangle is calculated\n",
    "            ratio = float(w)/h #The ratio fo width and height of the bounding rectangle is calculated \n",
    "            if (ratio> 0.99) and (ratio < 1.05) : #For a square the ratio should be near to 1\n",
    "                ltx, lty = approx1[0][0][0], approx1[0][0][1] #x and y coordinate of left top corner is calculated\n",
    "                rtx = approx1[1][0][0] #x coordinate of the right top corner is calculated\n",
    "                rbx, rby = approx1[2][0][0], approx1[2][0][1] #x and y coordinate of left bottom corner is calculated\n",
    "                cenx = int((ltx + rbx)/2) #x coordinate of the center of square is calculated\n",
    "                ceny = int((lty + rby)/2) #y coordinate of the center of square is calculated\n",
    "                id = colour(rotated1[ceny][cenx]) #ID of the aruco marker is found for BGR values of the center pixel\n",
    "                ratio1 = abs(float(ltx-rtx)/w) #The ratio of the length of the square and the width of bounding rectangle is calculated\n",
    "                if (id != None) and (ratio1 < 1.05) and (ratio1> 0.95):\n",
    "                    #IF the ratio is near to one it means the bounding rectangle and the square are in same orientaion and we will replace the square by aruco in that case\n",
    "                    aru = markers[id] # aruco marker for the correspoding id is taken\n",
    "                    aru = cv2.resize(aru,(w,h)) #aruco marker is rsized to fit in the square\n",
    "                    rotated1[y:y+h,x:x+w] = aru #aruco marker is replaced in place of the square\n",
    "                    rotate = cv2.getRotationMatrix2D((542,542),-n,1.0) #The rotaion matrix to rotate the image to orignal orientation \n",
    "                    rotated1 = cv2.warpAffine(rotated1,rotate,(1300,1300)) #The image is rotated to orignal orientation \n",
    "                    img2 = rotated1[260:880,130:1007] #The padding is removed\n",
    "                    cv2.imshow(\"Aruco is pasted !!\",img2) #The image is displayed after pasting each aruco marker\n",
    "                    key = cv2.waitKey(0)\n",
    "                    cv2.destroyAllWindows()\n",
    "                    \n",
    "                    break"
   ]
  },
  {
   "cell_type": "markdown",
   "metadata": {},
   "source": [
    "Displaying the final image"
   ]
  },
  {
   "cell_type": "code",
   "execution_count": 32,
   "metadata": {},
   "outputs": [],
   "source": [
    "cv2.imshow(\"final\",img2) #The final image is displayed\n",
    "key = cv2.waitKey(0)\n",
    "cv2.destroyAllWindows()"
   ]
  },
  {
   "cell_type": "markdown",
   "metadata": {},
   "source": [
    "Producing JPG file of the final image"
   ]
  },
  {
   "cell_type": "code",
   "execution_count": 33,
   "metadata": {},
   "outputs": [
    {
     "data": {
      "text/plain": [
       "True"
      ]
     },
     "execution_count": 33,
     "metadata": {},
     "output_type": "execute_result"
    }
   ],
   "source": [
    "cv2.imwrite(\"final.jpg\",img2) #The image is rendered to a jpg file"
   ]
  }
 ],
 "metadata": {
  "interpreter": {
   "hash": "3156125a5f7118e3e113fb1d632f1febd54c0ed82cc11545c6cb5d390bc03177"
  },
  "kernelspec": {
   "display_name": "Python 3.8.5 64-bit",
   "language": "python",
   "name": "python3"
  },
  "language_info": {
   "codemirror_mode": {
    "name": "ipython",
    "version": 3
   },
   "file_extension": ".py",
   "mimetype": "text/x-python",
   "name": "python",
   "nbconvert_exporter": "python",
   "pygments_lexer": "ipython3",
   "version": "3.8.5"
  },
  "orig_nbformat": 4
 },
 "nbformat": 4,
 "nbformat_minor": 2
}
